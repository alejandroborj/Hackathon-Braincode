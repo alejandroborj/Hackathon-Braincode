{
  "cells": [
    {
      "cell_type": "markdown",
      "metadata": {},
      "source": [
        "# CLASIFICACIÓN DE RIPPLES"
      ]
    },
    {
      "cell_type": "markdown",
      "metadata": {
        "id": "yh7Uswj-NdWu"
      },
      "source": [
        "\n",
        "-Algoritmo basado en aprendizaje supervisado (SVM) para la detección  de \"ripples\", LFPs o picos de actividad cerebral en las\n",
        "series temporales registradas por 8 delectrodos localizados en el hipotálamo de un ser humano. Para más información\n",
        "https://thebraincodegames.github.io/ .\n",
        "\n",
        "-Cada dispositivo registra un valor de potencial eléctrico cada (1/30.000) s. Al valor del denominador se le conoce como\n",
        "\"frecuencia de sampleo\".\n",
        "\n",
        "-Para \"alimentar\" los datos recabados a nuestro algoritmo se han dividido los muestreos en segmentos de \"A\" instantes.\n",
        "Cabe recordar que un instante cada 1/30.000 segundos, luego los segmentos tendrán una duración de A/30.000 segundos.\n",
        "El algoritmo evalua cada segmento en base a sus A instantes, para decidir si contiene o no un ripple.\n",
        "A este conjunto de segmentos que constituyen el \"input\" de nuestro algoritmo, se ha referenciado como 'X'.\n",
        "\n",
        "-Para determinar el valor óptimo del ancho del segmento, el hiperparámetro \"A\", se han compararon los resultados \n",
        "del algoritmo para distintos valores situados entre el periodo de oscilación de un \"ripple\" y la duración media de uno.\n",
        "\n",
        "-Dado que se trata de aprendizaje supervisado, se necesita un conjunto de etiquetas elaboradas por un experto que informen\n",
        "al algoritmo durante su aprendizaje sobre lo que es y no es un ripple. A este conjunto de etiquetas, se ha referenciado como 'y'."
      ]
    },
    {
      "cell_type": "markdown",
      "metadata": {
        "id": "JxuuPYOLsn1C"
      },
      "source": [
        "# IMPORTACIONES\n"
      ]
    },
    {
      "cell_type": "code",
      "execution_count": 3,
      "metadata": {},
      "outputs": [
        {
          "data": {
            "text/plain": [
              "'\\npip install imblearn\\npip install numpy\\npip install matplotlib\\npip install sklearn\\n'"
            ]
          },
          "execution_count": 3,
          "metadata": {},
          "output_type": "execute_result"
        }
      ],
      "source": [
        "# Bibliotecas instaladas\n",
        "'''\n",
        "pip install imblearn\n",
        "pip install numpy\n",
        "pip install matplotlib\n",
        "pip install sklearn\n",
        "'''"
      ]
    },
    {
      "cell_type": "code",
      "execution_count": 4,
      "metadata": {
        "id": "dLTm2Q6-i1KT"
      },
      "outputs": [],
      "source": [
        "import bz_LoadBinary\n",
        "import bcg_auxiliary\n",
        "\n",
        "import numpy as np\n",
        "import matplotlib.pyplot as plt\n",
        "\n",
        "from imblearn.under_sampling import RandomUnderSampler"
      ]
    },
    {
      "cell_type": "markdown",
      "metadata": {
        "id": "Am1xD4rAsyAP"
      },
      "source": [
        "# FUNCIONES AUXILIARES"
      ]
    },
    {
      "cell_type": "code",
      "execution_count": 5,
      "metadata": {
        "id": "1dF5IzYE2Fe8"
      },
      "outputs": [],
      "source": [
        "''' \n",
        "Funcionalidad: Cargo la sesion de entrenamiento.\n",
        "Parámetros: Ruta relativa o abosulta de la sesion de entrenamiento. Imprime metadatos de interés de lo cargado.\n",
        "Return: \n",
        "  X --> NumPy-Array de dimesiones (N-instantes, 8-canales) que contiene el valor de cada canal\n",
        "  para los 8 instantes.\n",
        "  y --> NumPy-Array de dimensiones (M-ripples, 2) que contiene el valor tiempo de inicio y tiempo\n",
        "  de fin de cada ripple de la sesión.\n",
        "  fs --> Frecuencia de sampleo del archivo\n",
        "'''\n",
        "\n",
        "def load_data(path_archivo):\n",
        "  X, fs, session_name = bcg_auxiliary.load_data(path_archivo)\n",
        "  y = bcg_auxiliary.load_ripples_tags(path_archivo, fs=30000)\n",
        "\n",
        "  print(\"Numero de canales \", len(X[0])) # Numero de canales\n",
        "  print(\"Numero de samples \", len(X)) # Numero de canales\n",
        "  print(\"Numero de ripples \", len(y), \"\\n\") # Numero de ripples\n",
        "\n",
        "  return X, y, fs\n"
      ]
    },
    {
      "cell_type": "code",
      "execution_count": 6,
      "metadata": {
        "id": "1ctrSjigJUW9"
      },
      "outputs": [],
      "source": [
        "'''\n",
        "Funcionalidad: Agrupar los elemetos de un NumPyArray en conjunto de tamaño A.\n",
        "Parámetros:\n",
        "  X --> NumPy-Array de dimesiones (N-instantes, 8-canales) que contiene el valor de cada canal\n",
        "  para los 8 instantes.\n",
        "  A --> Tamaño de las agrupaciones.\n",
        "Return: NumPy\n",
        "'''\n",
        "def agrupar_x(x, A):\n",
        "  #elimino los sobrantes datos\n",
        "  if(-int(np.shape(x)[0]%A)!= 0):\n",
        "    x=x[:-int(np.shape(x)[0]%A)]\n",
        "  #calculo en cuantos segmentos tendré que dividir el data set\n",
        "  x_dividido=np.array_split(x, int(abs(np.shape(x)[0]/A)))\n",
        "  return x_dividido\n"
      ]
    },
    {
      "cell_type": "code",
      "execution_count": 7,
      "metadata": {
        "id": "mMFAWcwRpzbe"
      },
      "outputs": [],
      "source": [
        "''' Funcionalidad: A partir de una lista binaria de longitud N (signal) se genera una lista binaria\n",
        "de longitud N/A que indica si existe al menos un 1 cada A elementos de la lista original. En el contexto de la hackaton,\n",
        "dado que contamos con una lista que informa si existe ripple o no a cada instante (len(instante)=1/frecuencai de sampleo)\n",
        "esta función permite definir en cuales de los A segmentos en los que se ha divido la serie temporal existe un ripple.\n",
        "El criterio elegido ha sido que si al menos un instante de unsigmento forma parte de un ripple, el segmento contiene uno.\n",
        "Parámetros:\n",
        "  -signal: Lista binaria de longitud N.\n",
        "  -A: Tamaño del segmento.\n",
        "Return: Lista binaria de longitud len(signal)/A que indica si existe \"ripple\" en cada uno de los segmentos en los\n",
        "que se hadividido la serie.\n",
        " '''\n",
        "def binary_to_binary_grouped(signal, A):\n",
        "  lista = []\n",
        "  for i in range(int(len(signal)/A)):\n",
        "    if(np.any(signal[i*A:i*A+A] == 1) == True):\n",
        "      lista = lista + [1]\n",
        "    else:\n",
        "      lista = lista + [0]\n",
        "  return lista\n",
        "\n"
      ]
    },
    {
      "cell_type": "code",
      "execution_count": 8,
      "metadata": {
        "id": "_tD6w9xe4nzp"
      },
      "outputs": [],
      "source": [
        "'''\n",
        "Funcionalidad: Inversa a la bcg_auxiliary.get_ripples_tags_as_signal(X, ripples, fs). Transforma una señal/array binario\n",
        "en una lista con el valor tiempo de inicio y tiempo de fin de cada ripple de la sesión.\n",
        "Parámetros:\n",
        "  signal --> Array binario que indica si existe o no \"ripple\" en cada segmento en los que se ha fragmentado la sesión.\n",
        "  A --> Ancho del segmento en instantes (1/fs).\n",
        "  fs --> Frecuencia de sampleo de la sesión.\n",
        "'''\n",
        "def signal_to_time(signal, A, fs):\n",
        "  # Toma signal, como devuelve la función del hackathon\n",
        "  pred_ripples = [[],[]]\n",
        "\n",
        "  if signal[0] == 1: # Por si empieza un ripple en cero\n",
        "    pred_ripples[0].append(0) \n",
        "\n",
        "  for idx in range(len(signal)-1):\n",
        "\n",
        "    if signal[idx] == 0 and signal[idx+1] == 1: # Esto significa que he encontrado el comienzo de un ripple\n",
        "      pred_ripples[0].append((idx+1)*A/fs)\n",
        "\n",
        "    if signal[idx] == 1 and signal[idx+1] == 0: # Esto significa que he encontrado el final de un ripple\n",
        "      pred_ripples[1].append((idx+1)*A/fs)\n",
        "  \n",
        "  if len(pred_ripples[1]) != len(pred_ripples[0]): # Por si pillo un ripple en el final pongo un ultimo tiempo\n",
        "    pred_ripples[1].append(len(signal)*A/fs)\n",
        "\n",
        "  return np.array(pred_ripples).transpose() # Transpose para que las columnas sean filas, como nos lo dan\n",
        "\n"
      ]
    },
    {
      "cell_type": "markdown",
      "metadata": {
        "id": "a2YNnDmes2tI"
      },
      "source": [
        "# PROCESADO"
      ]
    },
    {
      "cell_type": "code",
      "execution_count": 9,
      "metadata": {
        "id": "c-MKs5PdRtDR"
      },
      "outputs": [],
      "source": [
        "'''\n",
        "Funcionalidad: Adaptar la información disponible a las características del algorimto.\n",
        "Parámetros:\n",
        "  X --> NumPy-Array de dimesiones (N-instantes, 8-canales) que contiene el valor de cada canal\n",
        "  para los 8 instantes.\n",
        "  y --> NumPy-Array de dimensiones (M-ripples, 2) que contiene el valor tiempo de inicio y tiempo\n",
        "  de fin de cada ripple de la sesión\n",
        "  A --> Ancho de los segmentos en los que se agrupan los valores registrados (X).\n",
        "  fs --> Frecuencia de Sampleo\n",
        "Return:\n",
        "  X_1 --> NumPy-Array (matriz) de dimensiones ( N/A [segmentos], A*(8_canales) [instantes por segmento] ).\n",
        "  y_1 --> NumPy-Array de dimensiones (vector) ( N/A [segmentos],) binario que indica si el segmento i-ésimo es ripple (1) o no (0).\n",
        "'''\n",
        "def procesado_pre_entrenamiento(X_1, y_1,fs,A):\n",
        "  #Procesamiento de la y\n",
        "  y_1 = bcg_auxiliary.get_ripples_tags_as_signal(X_1, y_1,fs) # (m-ripples,2)=[[t0,t1]...[tn-1,tn]] --> n valores binarios que indican si en ese instante (1/30.000 segundos) hay (1) o no (0) ripple.\n",
        "  y_1 = binary_to_binary_grouped(signal=y_1, A=A) #Agrupación en segmentos:\n",
        "\n",
        "  #Procesamiento de la X\n",
        "\n",
        "  X_1 = X_1/np.max(X_1) #Normalizacion\n",
        "  X_1 = agrupar_x(X_1, A) #Agrupa los instantes en matrices de Ax8. Un tensor no válido para el algoritmo utilizado.\n",
        "  X_1 = np.reshape(X_1, [len(X_1), 8*len(X_1[0])]) #Formato \"dimensional\" aceptado por el algoritmo a utilizar\n",
        "\n",
        "  return X_1, y_1, fs"
      ]
    },
    {
      "cell_type": "code",
      "execution_count": 10,
      "metadata": {
        "id": "UyMQGNbJMg5F"
      },
      "outputs": [],
      "source": [
        "# Selección de hiperparámetros\n",
        "A = int(1500) #Ancho de ventana --> 500 puntos por segmento analizado\n",
        "fs = 30000 #Frecuencia de sampleo original"
      ]
    },
    {
      "cell_type": "code",
      "execution_count": 11,
      "metadata": {
        "colab": {
          "base_uri": "https://localhost:8080/"
        },
        "id": "mkp7QprCJm_0",
        "outputId": "7fa6db17-4079-45cb-e86a-f64486fd34b7"
      },
      "outputs": [
        {
          "name": "stdout",
          "output_type": "stream",
          "text": [
            "Numero de canales  8\n",
            "Numero de samples  31087616\n",
            "Numero de ripples  485 \n",
            "\n",
            "Numero de canales  8\n",
            "Numero de samples  71965696\n",
            "Numero de ripples  1309 \n",
            "\n"
          ]
        },
        {
          "ename": "MemoryError",
          "evalue": "Unable to allocate 632. MiB for an array with shape (6898, 12000) and data type float64",
          "output_type": "error",
          "traceback": [
            "\u001b[1;31m---------------------------------------------------------------------------\u001b[0m",
            "\u001b[1;31mMemoryError\u001b[0m                               Traceback (most recent call last)",
            "\u001b[1;32m<ipython-input-11-ff38c39ad87a>\u001b[0m in \u001b[0;36m<module>\u001b[1;34m\u001b[0m\n\u001b[0;32m     16\u001b[0m \u001b[1;31m#Undersampleo para equilibrar la muestra (hay más de un 90% de negativos)\u001b[0m\u001b[1;33m\u001b[0m\u001b[1;33m\u001b[0m\u001b[1;33m\u001b[0m\u001b[0m\n\u001b[0;32m     17\u001b[0m \u001b[0mrus\u001b[0m \u001b[1;33m=\u001b[0m \u001b[0mRandomUnderSampler\u001b[0m\u001b[1;33m(\u001b[0m\u001b[1;33m)\u001b[0m\u001b[1;33m\u001b[0m\u001b[1;33m\u001b[0m\u001b[0m\n\u001b[1;32m---> 18\u001b[1;33m \u001b[0mX\u001b[0m\u001b[1;33m,\u001b[0m \u001b[0my\u001b[0m\u001b[1;33m,\u001b[0m \u001b[1;33m=\u001b[0m \u001b[0mrus\u001b[0m\u001b[1;33m.\u001b[0m\u001b[0mfit_resample\u001b[0m\u001b[1;33m(\u001b[0m\u001b[0mX\u001b[0m\u001b[1;33m,\u001b[0m \u001b[0my\u001b[0m\u001b[1;33m)\u001b[0m\u001b[1;33m\u001b[0m\u001b[1;33m\u001b[0m\u001b[0m\n\u001b[0m",
            "\u001b[1;32m~\\anaconda3\\lib\\site-packages\\imblearn\\base.py\u001b[0m in \u001b[0;36mfit_resample\u001b[1;34m(self, X, y)\u001b[0m\n\u001b[0;32m     81\u001b[0m         )\n\u001b[0;32m     82\u001b[0m \u001b[1;33m\u001b[0m\u001b[0m\n\u001b[1;32m---> 83\u001b[1;33m         \u001b[0moutput\u001b[0m \u001b[1;33m=\u001b[0m \u001b[0mself\u001b[0m\u001b[1;33m.\u001b[0m\u001b[0m_fit_resample\u001b[0m\u001b[1;33m(\u001b[0m\u001b[0mX\u001b[0m\u001b[1;33m,\u001b[0m \u001b[0my\u001b[0m\u001b[1;33m)\u001b[0m\u001b[1;33m\u001b[0m\u001b[1;33m\u001b[0m\u001b[0m\n\u001b[0m\u001b[0;32m     84\u001b[0m \u001b[1;33m\u001b[0m\u001b[0m\n\u001b[0;32m     85\u001b[0m         y_ = (\n",
            "\u001b[1;32m~\\anaconda3\\lib\\site-packages\\imblearn\\under_sampling\\_prototype_selection\\_random_under_sampler.py\u001b[0m in \u001b[0;36m_fit_resample\u001b[1;34m(self, X, y)\u001b[0m\n\u001b[0;32m    118\u001b[0m         \u001b[0mself\u001b[0m\u001b[1;33m.\u001b[0m\u001b[0msample_indices_\u001b[0m \u001b[1;33m=\u001b[0m \u001b[0midx_under\u001b[0m\u001b[1;33m\u001b[0m\u001b[1;33m\u001b[0m\u001b[0m\n\u001b[0;32m    119\u001b[0m \u001b[1;33m\u001b[0m\u001b[0m\n\u001b[1;32m--> 120\u001b[1;33m         \u001b[1;32mreturn\u001b[0m \u001b[0m_safe_indexing\u001b[0m\u001b[1;33m(\u001b[0m\u001b[0mX\u001b[0m\u001b[1;33m,\u001b[0m \u001b[0midx_under\u001b[0m\u001b[1;33m)\u001b[0m\u001b[1;33m,\u001b[0m \u001b[0m_safe_indexing\u001b[0m\u001b[1;33m(\u001b[0m\u001b[0my\u001b[0m\u001b[1;33m,\u001b[0m \u001b[0midx_under\u001b[0m\u001b[1;33m)\u001b[0m\u001b[1;33m\u001b[0m\u001b[1;33m\u001b[0m\u001b[0m\n\u001b[0m\u001b[0;32m    121\u001b[0m \u001b[1;33m\u001b[0m\u001b[0m\n\u001b[0;32m    122\u001b[0m     \u001b[1;32mdef\u001b[0m \u001b[0m_more_tags\u001b[0m\u001b[1;33m(\u001b[0m\u001b[0mself\u001b[0m\u001b[1;33m)\u001b[0m\u001b[1;33m:\u001b[0m\u001b[1;33m\u001b[0m\u001b[1;33m\u001b[0m\u001b[0m\n",
            "\u001b[1;32m~\\anaconda3\\lib\\site-packages\\sklearn\\utils\\__init__.py\u001b[0m in \u001b[0;36m_safe_indexing\u001b[1;34m(X, indices, axis)\u001b[0m\n\u001b[0;32m    376\u001b[0m         \u001b[1;32mreturn\u001b[0m \u001b[0m_pandas_indexing\u001b[0m\u001b[1;33m(\u001b[0m\u001b[0mX\u001b[0m\u001b[1;33m,\u001b[0m \u001b[0mindices\u001b[0m\u001b[1;33m,\u001b[0m \u001b[0mindices_dtype\u001b[0m\u001b[1;33m,\u001b[0m \u001b[0maxis\u001b[0m\u001b[1;33m=\u001b[0m\u001b[0maxis\u001b[0m\u001b[1;33m)\u001b[0m\u001b[1;33m\u001b[0m\u001b[1;33m\u001b[0m\u001b[0m\n\u001b[0;32m    377\u001b[0m     \u001b[1;32melif\u001b[0m \u001b[0mhasattr\u001b[0m\u001b[1;33m(\u001b[0m\u001b[0mX\u001b[0m\u001b[1;33m,\u001b[0m \u001b[1;34m\"shape\"\u001b[0m\u001b[1;33m)\u001b[0m\u001b[1;33m:\u001b[0m\u001b[1;33m\u001b[0m\u001b[1;33m\u001b[0m\u001b[0m\n\u001b[1;32m--> 378\u001b[1;33m         \u001b[1;32mreturn\u001b[0m \u001b[0m_array_indexing\u001b[0m\u001b[1;33m(\u001b[0m\u001b[0mX\u001b[0m\u001b[1;33m,\u001b[0m \u001b[0mindices\u001b[0m\u001b[1;33m,\u001b[0m \u001b[0mindices_dtype\u001b[0m\u001b[1;33m,\u001b[0m \u001b[0maxis\u001b[0m\u001b[1;33m=\u001b[0m\u001b[0maxis\u001b[0m\u001b[1;33m)\u001b[0m\u001b[1;33m\u001b[0m\u001b[1;33m\u001b[0m\u001b[0m\n\u001b[0m\u001b[0;32m    379\u001b[0m     \u001b[1;32melse\u001b[0m\u001b[1;33m:\u001b[0m\u001b[1;33m\u001b[0m\u001b[1;33m\u001b[0m\u001b[0m\n\u001b[0;32m    380\u001b[0m         \u001b[1;32mreturn\u001b[0m \u001b[0m_list_indexing\u001b[0m\u001b[1;33m(\u001b[0m\u001b[0mX\u001b[0m\u001b[1;33m,\u001b[0m \u001b[0mindices\u001b[0m\u001b[1;33m,\u001b[0m \u001b[0mindices_dtype\u001b[0m\u001b[1;33m)\u001b[0m\u001b[1;33m\u001b[0m\u001b[1;33m\u001b[0m\u001b[0m\n",
            "\u001b[1;32m~\\anaconda3\\lib\\site-packages\\sklearn\\utils\\__init__.py\u001b[0m in \u001b[0;36m_array_indexing\u001b[1;34m(array, key, key_dtype, axis)\u001b[0m\n\u001b[0;32m    200\u001b[0m     \u001b[1;32mif\u001b[0m \u001b[0misinstance\u001b[0m\u001b[1;33m(\u001b[0m\u001b[0mkey\u001b[0m\u001b[1;33m,\u001b[0m \u001b[0mtuple\u001b[0m\u001b[1;33m)\u001b[0m\u001b[1;33m:\u001b[0m\u001b[1;33m\u001b[0m\u001b[1;33m\u001b[0m\u001b[0m\n\u001b[0;32m    201\u001b[0m         \u001b[0mkey\u001b[0m \u001b[1;33m=\u001b[0m \u001b[0mlist\u001b[0m\u001b[1;33m(\u001b[0m\u001b[0mkey\u001b[0m\u001b[1;33m)\u001b[0m\u001b[1;33m\u001b[0m\u001b[1;33m\u001b[0m\u001b[0m\n\u001b[1;32m--> 202\u001b[1;33m     \u001b[1;32mreturn\u001b[0m \u001b[0marray\u001b[0m\u001b[1;33m[\u001b[0m\u001b[0mkey\u001b[0m\u001b[1;33m]\u001b[0m \u001b[1;32mif\u001b[0m \u001b[0maxis\u001b[0m \u001b[1;33m==\u001b[0m \u001b[1;36m0\u001b[0m \u001b[1;32melse\u001b[0m \u001b[0marray\u001b[0m\u001b[1;33m[\u001b[0m\u001b[1;33m:\u001b[0m\u001b[1;33m,\u001b[0m \u001b[0mkey\u001b[0m\u001b[1;33m]\u001b[0m\u001b[1;33m\u001b[0m\u001b[1;33m\u001b[0m\u001b[0m\n\u001b[0m\u001b[0;32m    203\u001b[0m \u001b[1;33m\u001b[0m\u001b[0m\n\u001b[0;32m    204\u001b[0m \u001b[1;33m\u001b[0m\u001b[0m\n",
            "\u001b[1;31mMemoryError\u001b[0m: Unable to allocate 632. MiB for an array with shape (6898, 12000) and data type float64"
          ]
        }
      ],
      "source": [
        "#Carga de información\n",
        "train_data_path_1=\"data/train_1\"\n",
        "train_data_path_2=\"data/train_2\"\n",
        "\n",
        "X_1_o, y_1_o, fs = load_data(train_data_path_1)\n",
        "X_2_o, y_2_o, fs = load_data(train_data_path_2)\n",
        "\n",
        "#Ambos tienen la misma frecuencia de sampleo: 30.000\n",
        "X_1, y_1, _ = procesado_pre_entrenamiento(X_1_o, y_1_o, fs, A)\n",
        "X_2, y_2, _ = procesado_pre_entrenamiento(X_2_o, y_2_o, fs, A)\n",
        "\n",
        "#Concatenado de ambos sets\n",
        "X = np.concatenate((X_1, X_2))\n",
        "y = np.concatenate((y_1, y_2))\n",
        "\n",
        "#Undersampleo para equilibrar la muestra (hay más de un 90% de negativos)\n",
        "rus = RandomUnderSampler()\n",
        "X, y, = rus.fit_resample(X, y)"
      ]
    },
    {
      "cell_type": "code",
      "execution_count": null,
      "metadata": {
        "id": "6HXkKXcWHhbu"
      },
      "outputs": [],
      "source": [
        "np.save(f\"data/X_train_{A}.npy\", X) # Guardo los datos de entrenamiento\n",
        "np.save(f\"data/y_train_{A}.npy\", y) "
      ]
    },
    {
      "cell_type": "markdown",
      "metadata": {
        "id": "Ls6sBe22tAJs"
      },
      "source": [
        "# ENTRENAMIENTO"
      ]
    },
    {
      "cell_type": "code",
      "execution_count": 12,
      "metadata": {},
      "outputs": [
        {
          "ename": "MemoryError",
          "evalue": "Unable to allocate 632. MiB for an array with shape (82776000,) and data type float64",
          "output_type": "error",
          "traceback": [
            "\u001b[1;31m---------------------------------------------------------------------------\u001b[0m",
            "\u001b[1;31mMemoryError\u001b[0m                               Traceback (most recent call last)",
            "\u001b[1;32m<ipython-input-12-76f1410fe502>\u001b[0m in \u001b[0;36m<module>\u001b[1;34m\u001b[0m\n\u001b[0;32m      1\u001b[0m \u001b[1;31m# Si se ha ejecutado la parte de preprocesamiento no es necesario volver a ejecutarla\u001b[0m\u001b[1;33m\u001b[0m\u001b[1;33m\u001b[0m\u001b[1;33m\u001b[0m\u001b[0m\n\u001b[0;32m      2\u001b[0m \u001b[1;33m\u001b[0m\u001b[0m\n\u001b[1;32m----> 3\u001b[1;33m \u001b[0mX\u001b[0m \u001b[1;33m=\u001b[0m \u001b[0mnp\u001b[0m\u001b[1;33m.\u001b[0m\u001b[0mload\u001b[0m\u001b[1;33m(\u001b[0m\u001b[1;34mf\"data/X_train_{A}.npy\"\u001b[0m\u001b[1;33m)\u001b[0m\u001b[1;33m\u001b[0m\u001b[1;33m\u001b[0m\u001b[0m\n\u001b[0m\u001b[0;32m      4\u001b[0m \u001b[0my\u001b[0m \u001b[1;33m=\u001b[0m \u001b[0mnp\u001b[0m\u001b[1;33m.\u001b[0m\u001b[0mload\u001b[0m\u001b[1;33m(\u001b[0m\u001b[1;34mf\"data/y_train_{A}.npy\"\u001b[0m\u001b[1;33m)\u001b[0m\u001b[1;33m\u001b[0m\u001b[1;33m\u001b[0m\u001b[0m\n",
            "\u001b[1;32m~\\anaconda3\\lib\\site-packages\\numpy\\lib\\npyio.py\u001b[0m in \u001b[0;36mload\u001b[1;34m(file, mmap_mode, allow_pickle, fix_imports, encoding)\u001b[0m\n\u001b[0;32m    437\u001b[0m                 \u001b[1;32mreturn\u001b[0m \u001b[0mformat\u001b[0m\u001b[1;33m.\u001b[0m\u001b[0mopen_memmap\u001b[0m\u001b[1;33m(\u001b[0m\u001b[0mfile\u001b[0m\u001b[1;33m,\u001b[0m \u001b[0mmode\u001b[0m\u001b[1;33m=\u001b[0m\u001b[0mmmap_mode\u001b[0m\u001b[1;33m)\u001b[0m\u001b[1;33m\u001b[0m\u001b[1;33m\u001b[0m\u001b[0m\n\u001b[0;32m    438\u001b[0m             \u001b[1;32melse\u001b[0m\u001b[1;33m:\u001b[0m\u001b[1;33m\u001b[0m\u001b[1;33m\u001b[0m\u001b[0m\n\u001b[1;32m--> 439\u001b[1;33m                 return format.read_array(fid, allow_pickle=allow_pickle,\n\u001b[0m\u001b[0;32m    440\u001b[0m                                          pickle_kwargs=pickle_kwargs)\n\u001b[0;32m    441\u001b[0m         \u001b[1;32melse\u001b[0m\u001b[1;33m:\u001b[0m\u001b[1;33m\u001b[0m\u001b[1;33m\u001b[0m\u001b[0m\n",
            "\u001b[1;32m~\\anaconda3\\lib\\site-packages\\numpy\\lib\\format.py\u001b[0m in \u001b[0;36mread_array\u001b[1;34m(fp, allow_pickle, pickle_kwargs)\u001b[0m\n\u001b[0;32m    739\u001b[0m         \u001b[1;32mif\u001b[0m \u001b[0misfileobj\u001b[0m\u001b[1;33m(\u001b[0m\u001b[0mfp\u001b[0m\u001b[1;33m)\u001b[0m\u001b[1;33m:\u001b[0m\u001b[1;33m\u001b[0m\u001b[1;33m\u001b[0m\u001b[0m\n\u001b[0;32m    740\u001b[0m             \u001b[1;31m# We can use the fast fromfile() function.\u001b[0m\u001b[1;33m\u001b[0m\u001b[1;33m\u001b[0m\u001b[1;33m\u001b[0m\u001b[0m\n\u001b[1;32m--> 741\u001b[1;33m             \u001b[0marray\u001b[0m \u001b[1;33m=\u001b[0m \u001b[0mnumpy\u001b[0m\u001b[1;33m.\u001b[0m\u001b[0mfromfile\u001b[0m\u001b[1;33m(\u001b[0m\u001b[0mfp\u001b[0m\u001b[1;33m,\u001b[0m \u001b[0mdtype\u001b[0m\u001b[1;33m=\u001b[0m\u001b[0mdtype\u001b[0m\u001b[1;33m,\u001b[0m \u001b[0mcount\u001b[0m\u001b[1;33m=\u001b[0m\u001b[0mcount\u001b[0m\u001b[1;33m)\u001b[0m\u001b[1;33m\u001b[0m\u001b[1;33m\u001b[0m\u001b[0m\n\u001b[0m\u001b[0;32m    742\u001b[0m         \u001b[1;32melse\u001b[0m\u001b[1;33m:\u001b[0m\u001b[1;33m\u001b[0m\u001b[1;33m\u001b[0m\u001b[0m\n\u001b[0;32m    743\u001b[0m             \u001b[1;31m# This is not a real file. We have to read it the\u001b[0m\u001b[1;33m\u001b[0m\u001b[1;33m\u001b[0m\u001b[1;33m\u001b[0m\u001b[0m\n",
            "\u001b[1;31mMemoryError\u001b[0m: Unable to allocate 632. MiB for an array with shape (82776000,) and data type float64"
          ]
        }
      ],
      "source": [
        "# Si se ha ejecutado la parte de preprocesamiento no es necesario volver a ejecutarla\n",
        "\n",
        "X = np.load(f\"data/X_train_{A}.npy\")\n",
        "y = np.load(f\"data/y_train_{A}.npy\")\n"
      ]
    },
    {
      "cell_type": "code",
      "execution_count": null,
      "metadata": {
        "id": "oVvzkRMjIgY1"
      },
      "outputs": [],
      "source": [
        "from sklearn import svm\n",
        "import pickle\n",
        "\n",
        "clf = svm.SVC()\n",
        "clf.fit(X, y)\n",
        "\n",
        "pred_ripples = clf.predict(X)"
      ]
    },
    {
      "cell_type": "code",
      "execution_count": null,
      "metadata": {
        "colab": {
          "base_uri": "https://localhost:8080/",
          "height": 35
        },
        "id": "v6WNChXR-wVV",
        "outputId": "94294655-b4fd-41cf-84c1-435f62103ad7"
      },
      "outputs": [
        {
          "data": {
            "text/plain": [
              "\"\\n# Cargar Datos de entrenamiento\\nwith open(pkl_filename, 'rb') as file:\\n    clf = pickle.load(file)\\n\""
            ]
          },
          "execution_count": 13,
          "metadata": {},
          "output_type": "execute_result"
        }
      ],
      "source": [
        "pkl_filename = f\"modelos/model_SVM_{A}.pkl\"\n",
        "\n",
        "#Guardar resultados de entrenamiento\n",
        "with open(pkl_filename, 'wb') as file:\n",
        "    pickle.dump(clf, file)\n",
        "    \n",
        "'''\n",
        "# Cargar Datos de entrenamiento\n",
        "with open(pkl_filename, 'rb') as file:\n",
        "    clf = pickle.load(file)\n",
        "'''"
      ]
    },
    {
      "cell_type": "code",
      "execution_count": null,
      "metadata": {
        "colab": {
          "base_uri": "https://localhost:8080/"
        },
        "id": "TAchDAt5axmn",
        "outputId": "341ab3ff-327d-4dbf-ab76-ee793640ef36"
      },
      "outputs": [
        {
          "name": "stdout",
          "output_type": "stream",
          "text": [
            "Precisión en el training set:  0.8756161206146709\n"
          ]
        }
      ],
      "source": [
        "matches = [i == j for i,j in zip(pred_ripples, y)]\n",
        "acc = matches.count(True)/len(matches)\n",
        "\n",
        "print(\"Precisión en el training set: \", acc)"
      ]
    },
    {
      "cell_type": "markdown",
      "metadata": {
        "id": "30XPf5WttPf7"
      },
      "source": [
        "# VALIDACIÓN"
      ]
    },
    {
      "cell_type": "code",
      "execution_count": null,
      "metadata": {
        "colab": {
          "base_uri": "https://localhost:8080/"
        },
        "id": "jMO6AzNugOLl",
        "outputId": "f85dba1d-86f6-45d3-af36-67daf11e6832"
      },
      "outputs": [
        {
          "name": "stdout",
          "output_type": "stream",
          "text": [
            "Numero de canales  8\n",
            "Numero de samples  22326272\n",
            "Numero de ripples  1064 \n",
            "\n"
          ]
        }
      ],
      "source": [
        "val_data_path=\"data/val_2\"\n",
        "X, y, _ = load_data(val_data_path)"
      ]
    },
    {
      "cell_type": "code",
      "execution_count": null,
      "metadata": {
        "id": "XnHIzMyrtYd9"
      },
      "outputs": [],
      "source": [
        "#Pre-procesado de la X\n",
        "X = X/np.max(X) #Normalizo\n",
        "X = agrupar_x(X, A) #Agrupa los instantes en A/N matrices de Ax8. Un tensor no válido para el algoritmo utilizado.\n",
        "X = np.reshape(X, [len(X), 8*len(X[0])]) #Formato \"dimensional\" aceptado por el algoritmo a utilizar: ( M x L ) = ( A/N segmentos x A*(8_canales) ).\n",
        "\n",
        "true_ripples = y\n",
        "\n",
        "#Predicción\n",
        "pred_ripples = clf.predict(X)\n",
        "pred_ripples = signal_to_time(pred_ripples,A,fs)\n"
      ]
    },
    {
      "cell_type": "code",
      "execution_count": null,
      "metadata": {
        "colab": {
          "base_uri": "https://localhost:8080/"
        },
        "id": "jSIk0mC4Vost",
        "outputId": "ee155dc4-8e2c-43a6-de2b-2aa8f5c0f142"
      },
      "outputs": [
        {
          "name": "stdout",
          "output_type": "stream",
          "text": [
            "Verdaderos ripples: \n",
            " [[1.60466667e-01 2.01500000e-01]\n",
            " [3.01100000e-01 3.33333333e-01]\n",
            " [4.31966667e-01 4.93466667e-01]\n",
            " ...\n",
            " [7.40693600e+02 7.40753267e+02]\n",
            " [7.40821600e+02 7.40918100e+02]\n",
            " [7.42618767e+02 7.42658900e+02]]\n",
            "Predicción ripples: \n",
            " [[1.0000e-01 2.0000e-01]\n",
            " [4.5000e-01 5.5000e-01]\n",
            " [6.5000e-01 7.0000e-01]\n",
            " ...\n",
            " [7.4260e+02 7.4270e+02]\n",
            " [7.4295e+02 7.4300e+02]\n",
            " [7.4415e+02 7.4420e+02]]\n"
          ]
        }
      ],
      "source": [
        "print(\"Verdaderos ripples: \\n\", true_ripples)\n",
        "print(\"Predicción ripples: \\n\", pred_ripples) "
      ]
    },
    {
      "cell_type": "code",
      "execution_count": null,
      "metadata": {
        "colab": {
          "base_uri": "https://localhost:8080/"
        },
        "id": "KwWYARe2ILpW",
        "outputId": "8943b3af-dbc4-476e-efc0-0c1baef3888e"
      },
      "outputs": [
        {
          "name": "stdout",
          "output_type": "stream",
          "text": [
            "P, R, F1:  (0.4793779580797836, 0.6663533834586466, 0.5576091230829728)\n"
          ]
        }
      ],
      "source": [
        "print(\"P, R, F1: \", bcg_auxiliary.get_score(true_ripples, pred_ripples, threshold=0.1))"
      ]
    },
    {
      "cell_type": "markdown",
      "metadata": {},
      "source": [
        "# Test"
      ]
    },
    {
      "cell_type": "code",
      "execution_count": null,
      "metadata": {},
      "outputs": [],
      "source": [
        "def test(test_data_path):\n",
        "    X, y, _ = load_data(val_data_path)\n",
        "\n",
        "    #Pre-procesado de la X\n",
        "    X = X/np.max(X) #Normalizo\n",
        "    X = agrupar_x(X, A) #Agrupa los instantes en A/N matrices de Ax8. Un tensor no válido para el algoritmo utilizado.\n",
        "    X = np.reshape(X, [len(X), 8*len(X[0])]) #Formato \"dimensional\" aceptado por el algoritmo a utilizar: ( M x L ) = ( A/N segmentos x A*(8_canales) ).\n",
        "\n",
        "    true_ripples = y\n",
        "\n",
        "    #Predicción\n",
        "    pred_ripples = clf.predict(X)\n",
        "    pred_ripples = signal_to_time(pred_ripples,A,fs)\n",
        "    _, _, session_name = bcg_auxiliary.load_data(val_data_path)\n",
        "\n",
        "    bcg_auxiliary.write_results(\"resultados/\", session_name, 13, pred_ripples)"
      ]
    },
    {
      "cell_type": "code",
      "execution_count": null,
      "metadata": {},
      "outputs": [
        {
          "ename": "NameError",
          "evalue": "name 'load_data' is not defined",
          "output_type": "error",
          "traceback": [
            "\u001b[1;31m---------------------------------------------------------------------------\u001b[0m",
            "\u001b[1;31mNameError\u001b[0m                                 Traceback (most recent call last)",
            "\u001b[1;32m<ipython-input-2-9c0c9ba3af9d>\u001b[0m in \u001b[0;36m<module>\u001b[1;34m\u001b[0m\n\u001b[1;32m----> 1\u001b[1;33m \u001b[0mtest\u001b[0m\u001b[1;33m(\u001b[0m\u001b[1;34m\"data/val1\"\u001b[0m\u001b[1;33m)\u001b[0m\u001b[1;33m\u001b[0m\u001b[1;33m\u001b[0m\u001b[0m\n\u001b[0m\u001b[0;32m      2\u001b[0m \u001b[0mtest\u001b[0m\u001b[1;33m(\u001b[0m\u001b[1;34m\"data/test2\"\u001b[0m\u001b[1;33m)\u001b[0m\u001b[1;33m\u001b[0m\u001b[1;33m\u001b[0m\u001b[0m\n",
            "\u001b[1;32m<ipython-input-1-c9d9055a51f8>\u001b[0m in \u001b[0;36mtest\u001b[1;34m(test_data_path)\u001b[0m\n\u001b[0;32m      1\u001b[0m \u001b[1;32mdef\u001b[0m \u001b[0mtest\u001b[0m\u001b[1;33m(\u001b[0m\u001b[0mtest_data_path\u001b[0m\u001b[1;33m)\u001b[0m\u001b[1;33m:\u001b[0m\u001b[1;33m\u001b[0m\u001b[1;33m\u001b[0m\u001b[0m\n\u001b[1;32m----> 2\u001b[1;33m     \u001b[0mX\u001b[0m\u001b[1;33m,\u001b[0m \u001b[0my\u001b[0m\u001b[1;33m,\u001b[0m \u001b[0m_\u001b[0m \u001b[1;33m=\u001b[0m \u001b[0mload_data\u001b[0m\u001b[1;33m(\u001b[0m\u001b[0mval_data_path\u001b[0m\u001b[1;33m)\u001b[0m\u001b[1;33m\u001b[0m\u001b[1;33m\u001b[0m\u001b[0m\n\u001b[0m\u001b[0;32m      3\u001b[0m \u001b[1;33m\u001b[0m\u001b[0m\n\u001b[0;32m      4\u001b[0m     \u001b[1;31m#Pre-procesado de la X\u001b[0m\u001b[1;33m\u001b[0m\u001b[1;33m\u001b[0m\u001b[1;33m\u001b[0m\u001b[0m\n\u001b[0;32m      5\u001b[0m     \u001b[0mX\u001b[0m \u001b[1;33m=\u001b[0m \u001b[0mX\u001b[0m\u001b[1;33m/\u001b[0m\u001b[0mnp\u001b[0m\u001b[1;33m.\u001b[0m\u001b[0mmax\u001b[0m\u001b[1;33m(\u001b[0m\u001b[0mX\u001b[0m\u001b[1;33m)\u001b[0m \u001b[1;31m#Normalizo\u001b[0m\u001b[1;33m\u001b[0m\u001b[1;33m\u001b[0m\u001b[0m\n",
            "\u001b[1;31mNameError\u001b[0m: name 'load_data' is not defined"
          ]
        }
      ],
      "source": [
        "test(\"data/test1\")\n",
        "test(\"data/test2\")"
      ]
    },
    {
      "cell_type": "code",
      "execution_count": null,
      "metadata": {},
      "outputs": [],
      "source": []
    }
  ],
  "metadata": {
    "colab": {
      "collapsed_sections": [],
      "name": "definitivisimo_grupo13.ipynb",
      "provenance": []
    },
    "interpreter": {
      "hash": "934b5891bb36f71eb20348ccc65f76433ba4be08368827d0a2f39d2253ecf52b"
    },
    "kernelspec": {
      "display_name": "Python 3.8.5 64-bit ('base': conda)",
      "name": "python3"
    },
    "language_info": {
      "codemirror_mode": {
        "name": "ipython",
        "version": 3
      },
      "file_extension": ".py",
      "mimetype": "text/x-python",
      "name": "python",
      "nbconvert_exporter": "python",
      "pygments_lexer": "ipython3",
      "version": "3.8.5"
    }
  },
  "nbformat": 4,
  "nbformat_minor": 0
}
